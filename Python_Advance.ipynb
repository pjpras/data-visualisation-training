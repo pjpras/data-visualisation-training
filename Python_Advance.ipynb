{
 "cells": [
  {
   "cell_type": "code",
   "execution_count": 6,
   "metadata": {},
   "outputs": [
    {
     "name": "stdout",
     "output_type": "stream",
     "text": [
      "{1, 2, 3, 4, 5}\n",
      "<class 'set'>\n"
     ]
    }
   ],
   "source": [
    "a = {1,2,3,4,5,5}\n",
    "print(a)\n",
    "print(type(a))"
   ]
  },
  {
   "cell_type": "code",
   "execution_count": 9,
   "metadata": {},
   "outputs": [
    {
     "name": "stdout",
     "output_type": "stream",
     "text": [
      "True\n",
      "x id is  4458891200\n",
      "y id is  4458848576\n",
      "z id is  4458891200\n"
     ]
    }
   ],
   "source": [
    "x=[\"apple\",\"banana\"]\n",
    "y=[\"apple\",\"banana\"]\n",
    "z=x\n",
    "print(x is z)\n",
    "print(\"x id is \",id(x))\n",
    "print(\"y id is \",id(y))\n",
    "print(\"z id is \",id(z))"
   ]
  },
  {
   "cell_type": "code",
   "execution_count": 25,
   "metadata": {},
   "outputs": [
    {
     "name": "stdout",
     "output_type": "stream",
     "text": [
      "prashant\n",
      "4458968368\n",
      "prashant joshi\n",
      "4458958256\n",
      "<class 'type'>\n"
     ]
    }
   ],
   "source": [
    "a = 'prashant'\n",
    "print(a)\n",
    "print(id(a))\n",
    "a = a+\" joshi\"\n",
    "print(a)\n",
    "print(id(a))\n",
    "b=type(a[0])\n",
    "print(type(b))"
   ]
  },
  {
   "cell_type": "code",
   "execution_count": 45,
   "metadata": {},
   "outputs": [
    {
     "name": "stdout",
     "output_type": "stream",
     "text": [
      "i am python developer\n",
      "name[2:4] am\n",
      "name[5:9] pyth\n",
      "name[:15] i am python dev\n",
      "name[2:] am python developer\n",
      "name[:] i am python developer\n",
      "name[0:17:3] imyode\n",
      "name[:] i am python developer\n",
      "name[::-1] repoleved nohtyp ma i\n",
      "I am python developer\n",
      "    i am python developer     \n",
      "1\n"
     ]
    }
   ],
   "source": [
    "name = \"i am python developer\"\n",
    "print(name)\n",
    "print(\"name[2:4]\",name[2:4])\n",
    "print(\"name[5:9]\",name[5:9])\n",
    "print(\"name[:15]\",name[:15])\n",
    "print(\"name[2:]\",name[2:])\n",
    "print(\"name[:]\",name[:])\n",
    "print(\"name[0:17:3]\",name[0:17:3])\n",
    "print(\"name[:]\",name[::])\n",
    "print(\"name[::-1]\",name[::-1])\n",
    "str =name.capitalize()\n",
    "str1=name.center(30)\n",
    "print(str)\n",
    "print(str1)\n",
    "\n",
    "str2=name.count(\"e\",6,15)\n",
    "print(str2) "
   ]
  },
  {
   "cell_type": "code",
   "execution_count": 82,
   "metadata": {},
   "outputs": [
    {
     "name": "stdout",
     "output_type": "stream",
     "text": [
      "True\n",
      "True\n",
      "True\n",
      "-1\n",
      "16\n",
      "String contains other chars too\n",
      "True\n",
      "False\n",
      "hello this is python class.\n",
      "HELLO THIS IS PYTHON CLASS.\n",
      "False\n",
      "   python***\n",
      "   python\n",
      "   python\n",
      "c is a c programming java language java\n"
     ]
    }
   ],
   "source": [
    "str = \"hello this is python class.\"\n",
    "isends = str.endswith(\".\")\n",
    "print(isends)\n",
    "\n",
    "isends = str.endswith(\"is\",0,13)\n",
    "print(isends)\n",
    "\n",
    "isends = str.startswith(\"is\",8,56)\n",
    "print(isends)\n",
    "\n",
    "isends = str.find(\"x\",15,25) #not found return -1\n",
    "print(isends)\n",
    "\n",
    "isends = str.index(\"th\",15,25) #not found return error\n",
    "print(isends)\n",
    "\n",
    "isends = str.isalnum()\n",
    "\n",
    "if str.isalpha() == True:\n",
    "    print(\"String contains alphabets\")\n",
    "\n",
    "else :\n",
    "    print(\"String contains other chars too\")\n",
    "    \n",
    "    \n",
    "str2= str.islower()\n",
    "print(str2)\n",
    "str2 = str.isupper()\n",
    "print(str2)\n",
    "\n",
    "str.upper()\n",
    "print(str)\n",
    "str2 = str.upper()\n",
    "print(str2)\n",
    "\n",
    "str2 = \" 50 \"\n",
    "str2 = str2.isnumeric()\n",
    "print(str2)\n",
    "\n",
    "str = \"***python***\"\n",
    "str2 = str.lstrip(\"*\")\n",
    "str3 = str.rstrip(\"*\")\n",
    "str4 = str.strip(\"*\")\n",
    "\n",
    "print(str2)\n",
    "print(str3)\n",
    "print(str4)\n",
    "\n",
    "str = \"java is a java programming java language java\"\n",
    "str2 = str.replace(\"java\",\"c\",2)\n",
    "print(str2)"
   ]
  },
  {
   "cell_type": "code",
   "execution_count": 87,
   "metadata": {},
   "outputs": [
    {
     "name": "stdout",
     "output_type": "stream",
     "text": [
      "Total number of alphabets : 28\n",
      "Total number of numeric : 3\n",
      "Total number of special characters : 5\n",
      "Total sum of numeric : 6\n"
     ]
    }
   ],
   "source": [
    "str = \"Python123 swapcase() method converts\"\n",
    "\n",
    "def countChars(str):\n",
    "    al = 0\n",
    "    num = 0\n",
    "    spe = 0\n",
    "    sum=0\n",
    "    \n",
    "    for i in str:\n",
    "        if i.isalpha():\n",
    "            al += 1\n",
    "        elif i.isnumeric():\n",
    "            num += 1\n",
    "            sum+= int(i)\n",
    "        else:\n",
    "            spe += 1\n",
    "    return [al,num,spe,sum]\n",
    "            \n",
    "a = countChars(str)\n",
    "print(f'Total number of alphabets : {a[0]}')\n",
    "print(f'Total number of numeric : {a[1]}')\n",
    "print(f'Total number of special characters : {a[2]}')\n",
    "print(f'Total sum of numeric : {a[3]}')\n"
   ]
  },
  {
   "cell_type": "code",
   "execution_count": 88,
   "metadata": {},
   "outputs": [
    {
     "name": "stdout",
     "output_type": "stream",
     "text": [
      "['prashant', 21, 'noida']\n"
     ]
    }
   ],
   "source": [
    "def removeKeys(dict):\n",
    "    a = []\n",
    "    for keys in dict:\n",
    "        a.append(dict[keys])\n",
    "        \n",
    "    return a\n",
    "\n",
    "dict = {\"name\": \"prashant\", \"age\": 21, \"city\": \"noida\"}\n",
    "a = removeKeys(dict)\n",
    "print(a)"
   ]
  }
 ],
 "metadata": {
  "kernelspec": {
   "display_name": "Python 3",
   "language": "python",
   "name": "python3"
  },
  "language_info": {
   "codemirror_mode": {
    "name": "ipython",
    "version": 3
   },
   "file_extension": ".py",
   "mimetype": "text/x-python",
   "name": "python",
   "nbconvert_exporter": "python",
   "pygments_lexer": "ipython3",
   "version": "3.11.5"
  }
 },
 "nbformat": 4,
 "nbformat_minor": 2
}
