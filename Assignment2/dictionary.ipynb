{
 "cells": [
  {
   "cell_type": "code",
   "execution_count": 1,
   "metadata": {},
   "outputs": [
    {
     "name": "stdout",
     "output_type": "stream",
     "text": [
      "StdId   | StdName         | Standard | Age | Hindi | English | Maths | Science | Computer | Total\n",
      "-------------------------------------------------------------------------------------------------\n",
      "std101  | Ashish Kumar    | 10       | 15  | 67    | 89      | 87    | 89      | 90       | 422\n",
      "std102  | Abhishek Kumar  | 10       | 14  | 85    | 45      | 48    | 90      | 45       | 313\n",
      "std103  | Aman            | 10       | 15  | 23    | 56      | 78    | 78      | 67       | 302\n",
      "std104  | Rahul           | 10       | 14  | 45    | 67      | 45    | 45      | 56       | 258\n",
      "std105  | Ruby            | 10       | 13  | 89    | 67      | 89    | 93      | 65       | 403\n",
      "std106  | Suman           | 10       | 13  | 90    | 46      | 67    | 67      | 67       | 337\n",
      "std107  | Saurabh         | 10       | 15  | 45    | 23      | 34    | 45      | 34       | 181\n",
      "std108  | Sumit           | 10       | 14  | 23    | 45      | 67    | 78      | 90       | 303\n",
      "std109  | Kamlesh         | 10       | 15  | 45    | 56      | 78    | 99      | 67       | 345\n",
      "std110  | Rohan           | 10       | 15  | 34    | 12      | 24    | 45      | 56       | 171\n",
      "\n",
      "Students who scored more than 50 in English:\n",
      "Ashish Kumar\n",
      "Aman\n",
      "Rahul\n",
      "Ruby\n",
      "Kamlesh\n",
      "\n",
      "Top four scorers in Maths:\n",
      "Name: Ruby, Age: 13\n",
      "Name: Ashish Kumar, Age: 15\n",
      "Name: Aman, Age: 15\n",
      "Name: Kamlesh, Age: 15\n",
      "\n",
      "Bottom three scorers in Computer:\n",
      "StdId: std107, Name: Saurabh, Age: 15\n",
      "StdId: std102, Name: Abhishek Kumar, Age: 14\n",
      "StdId: std104, Name: Rahul, Age: 14\n"
     ]
    }
   ],
   "source": [
    "stdid = ['std101','std102','std103','std104','std105','std106','std107','std108','std109','std110']\n",
    "stdname = ['Ashish Kumar','Abhishek Kumar','Aman','Rahul','Ruby','Suman','Saurabh','Sumit','Kamlesh','Rohan']\n",
    "standard = [10,10,10,10,10,10,10,10,10,10]\n",
    "Age = [15,14,15,14,13,13,15,14,15,15]\n",
    "Hindi = [67,85,23,45,89,90,45,23,45,34]\n",
    "English = [89,45,56,67,67,46,23,45,56,12]\n",
    "Maths = [87,48,78,45,89,67,34,67,78,24]\n",
    "Science = [89,90,78,45,93,67,45,78,99,45]\n",
    "Computer = [90,45,67,56,65,67,34,90,67,56]\n",
    "Total = [422,313,302,258,403,337,181,303,345,171]\n",
    "\n",
    "students = []\n",
    "for i in range(len(stdid)):\n",
    "\tstudents.append({'stdid':stdid[i], 'stdname':stdname[i],'standard': standard[i], 'Age':Age[i], 'Hindi':Hindi[i], 'English':English[i], 'Maths':Maths[i],'Science': Science[i], 'Computer':Computer[i], 'Total':Total[i]})\n",
    "\n",
    "# Print header\n",
    "header = \"StdId   | StdName         | Standard | Age | Hindi | English | Maths | Science | Computer | Total\"\n",
    "print(header)\n",
    "print(\"-\" * len(header))\n",
    "for student in students:\n",
    "    print(f\"{student['stdid']:<7} | {student['stdname']:<15} | {student['standard']:<8} | {student['Age']:<3} | {student['Hindi']:<5} | {student['English']:<7} | {student['Maths']:<5} | {student['Science']:<7} | {student['Computer']:<8} | {student['Total']}\")\n",
    "print()\n",
    "\n",
    "\n",
    "# Students who scored more than 50 in English\n",
    "print(\"Students who scored more than 50 in English:\")\n",
    "for student in students:\n",
    "\tif student['English'] > 50:\n",
    "\t\tprint(student['stdname'])\n",
    "print()\n",
    "\n",
    "# Sort the students list by Maths score in descending order and get top four\n",
    "top_scorers = sorted(students, key=lambda x: x['Maths'], reverse=True)[:4]\n",
    "print(\"Top four scorers in Maths:\")\n",
    "for scorer in top_scorers:\n",
    "\tprint(f\"Name: {scorer['stdname']}, Age: {scorer['Age']}\")\n",
    "print()\n",
    "\n",
    "# Sort the students list by Computer score in ascending order and get bottom three\n",
    "bottom_scorers = sorted(students, key=lambda x: x['Computer'])[:3]\n",
    "print(\"Bottom three scorers in Computer:\")\n",
    "for scorer in bottom_scorers:\n",
    "\tprint(f\"StdId: {scorer['stdid']}, Name: {scorer['stdname']}, Age: {scorer['Age']}\")     \n",
    " \n",
    " "
   ]
  }
 ],
 "metadata": {
  "kernelspec": {
   "display_name": "Python 3",
   "language": "python",
   "name": "python3"
  },
  "language_info": {
   "codemirror_mode": {
    "name": "ipython",
    "version": 3
   },
   "file_extension": ".py",
   "mimetype": "text/x-python",
   "name": "python",
   "nbconvert_exporter": "python",
   "pygments_lexer": "ipython3",
   "version": "3.11.5"
  }
 },
 "nbformat": 4,
 "nbformat_minor": 2
}
